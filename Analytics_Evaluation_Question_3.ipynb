{
  "nbformat": 4,
  "nbformat_minor": 0,
  "metadata": {
    "colab": {
      "provenance": [],
      "collapsed_sections": []
    },
    "kernelspec": {
      "name": "python3",
      "display_name": "Python 3"
    },
    "language_info": {
      "name": "python"
    }
  },
  "cells": [
    {
      "cell_type": "markdown",
      "source": [
        "Feed the following paragraph into your favourite data analytics tool, and answer the following;\\\n",
        "a. What is the probability of the word “data” occurring in each line ?\\\n",
        "b. What is the distribution of distinct word counts across all the lines ?\\\n",
        "c. What is the probability of the word “analytics” occurring after the word “data” ?"
      ],
      "metadata": {
        "id": "dfuWtFjvH40P"
      }
    },
    {
      "cell_type": "code",
      "execution_count": 96,
      "metadata": {
        "id": "BEikXJ2VHSre"
      },
      "outputs": [],
      "source": [
        "text = open(\"/content/soal3.txt\", \"r\")"
      ]
    },
    {
      "cell_type": "code",
      "source": [
        "d=dict()"
      ],
      "metadata": {
        "id": "2aGNsyIgIwga"
      },
      "execution_count": 97,
      "outputs": []
    },
    {
      "cell_type": "code",
      "source": [
        "import string"
      ],
      "metadata": {
        "id": "QHU8swsaQw1r"
      },
      "execution_count": 98,
      "outputs": []
    },
    {
      "cell_type": "code",
      "source": [
        "for line in text:\n",
        "  line=line.strip()\n",
        "  line=line.lower()\n",
        "  line = line.translate(line.maketrans(\"\", \"\", string.punctuation))\n",
        "  words=line.split(\" \")\n",
        "  for word in words:\n",
        "    if word in d:\n",
        "      d[word]=d[word]+1\n",
        "    else :\n",
        "      d[word]=1"
      ],
      "metadata": {
        "id": "sQ_5lMc5JMhC"
      },
      "execution_count": 99,
      "outputs": []
    },
    {
      "cell_type": "code",
      "source": [
        "for key in list(d.keys()):\n",
        "    print(key, \":\", d[key])"
      ],
      "metadata": {
        "colab": {
          "base_uri": "https://localhost:8080/"
        },
        "id": "j66fk94UN2M9",
        "outputId": "0faf18e8-5d55-4760-d702-c2e5b18e175c"
      },
      "execution_count": 100,
      "outputs": [
        {
          "output_type": "stream",
          "name": "stdout",
          "text": [
            "as : 2\n",
            "a : 10\n",
            "term : 3\n",
            "data : 18\n",
            "analytics : 10\n",
            "predominantly : 1\n",
            "refers : 1\n",
            "to : 11\n",
            "an : 1\n",
            "assortment : 1\n",
            "of : 10\n",
            "applications : 1\n",
            "from : 2\n",
            "basic : 1\n",
            "business : 4\n",
            "intelligence : 1\n",
            "bi : 2\n",
            "reporting : 1\n",
            "and : 9\n",
            "online : 1\n",
            "analytical : 1\n",
            "processing : 1\n",
            "olap : 1\n",
            "various : 1\n",
            "forms : 1\n",
            "advanced : 2\n",
            "in : 6\n",
            "that : 4\n",
            "sense : 1\n",
            "its : 1\n",
            "similar : 1\n",
            "nature : 1\n",
            "another : 1\n",
            "umbrella : 1\n",
            "for : 2\n",
            "approaches : 1\n",
            "analyzing : 1\n",
            " : 4\n",
            "with : 3\n",
            "the : 11\n",
            "difference : 1\n",
            "latter : 1\n",
            "is : 4\n",
            "oriented : 1\n",
            "uses : 2\n",
            "while : 2\n",
            "has : 2\n",
            "broader : 1\n",
            "focus : 1\n",
            "expansive : 1\n",
            "view : 2\n",
            "isnt : 1\n",
            "universal : 1\n",
            "though : 1\n",
            "some : 1\n",
            "cases : 1\n",
            "people : 1\n",
            "use : 1\n",
            "specifically : 1\n",
            "mean : 1\n",
            "treating : 1\n",
            "separate : 1\n",
            "category : 1\n",
            "initiatives : 1\n",
            "can : 5\n",
            "help : 1\n",
            "businesses : 1\n",
            "increase : 1\n",
            "revenues : 1\n",
            "improve : 1\n",
            "operational : 1\n",
            "efficiency : 1\n",
            "optimize : 1\n",
            "marketing : 1\n",
            "campaigns : 1\n",
            "customer : 1\n",
            "service : 1\n",
            "efforts : 1\n",
            "respond : 1\n",
            "more : 2\n",
            "quickly : 1\n",
            "emerging : 1\n",
            "market : 1\n",
            "trends : 1\n",
            "gain : 1\n",
            "competitive : 1\n",
            "edge : 1\n",
            "over : 1\n",
            "rivals : 1\n",
            "all : 1\n",
            "ultimate : 1\n",
            "goal : 1\n",
            "boosting : 1\n",
            "performance : 1\n",
            "depending : 1\n",
            "on : 2\n",
            "particular : 1\n",
            "application : 1\n",
            "thats : 1\n",
            "analyzed : 1\n",
            "consist : 1\n",
            "either : 1\n",
            "historical : 1\n",
            "records : 1\n",
            "or : 4\n",
            "new : 1\n",
            "information : 1\n",
            "been : 1\n",
            "processed : 1\n",
            "realtime : 1\n",
            "addition : 1\n",
            "it : 2\n",
            "come : 1\n",
            "mix : 1\n",
            "internal : 1\n",
            "systems : 1\n",
            "external : 1\n",
            "sources : 1\n",
            "at : 1\n",
            "high : 1\n",
            "level : 1\n",
            "methodologies : 1\n",
            "include : 1\n",
            "exploratory : 2\n",
            "analysis : 6\n",
            "eda : 2\n",
            "which : 2\n",
            "aims : 1\n",
            "find : 1\n",
            "patterns : 1\n",
            "relationships : 1\n",
            "confirmatory : 1\n",
            "cda : 2\n",
            "applies : 1\n",
            "statistical : 1\n",
            "techniques : 1\n",
            "determine : 1\n",
            "whether : 1\n",
            "hypotheses : 1\n",
            "about : 1\n",
            "set : 1\n",
            "are : 1\n",
            "true : 1\n",
            "false : 1\n",
            "often : 1\n",
            "compared : 2\n",
            "detective : 1\n",
            "work : 2\n",
            "akin : 1\n",
            "judge : 1\n",
            "jury : 1\n",
            "during : 1\n",
            "court : 1\n",
            "trial : 1\n",
            "distinction : 1\n",
            "first : 1\n",
            "drawn : 1\n",
            "by : 1\n",
            "statistician : 1\n",
            "john : 1\n",
            "w : 1\n",
            "tukey : 1\n",
            "his : 1\n",
            "1977 : 1\n",
            "book : 1\n",
            "also : 1\n",
            "be : 2\n",
            "separated : 1\n",
            "into : 1\n",
            "quantitative : 1\n",
            "qualitative : 2\n",
            "former : 1\n",
            "involves : 1\n",
            "numerical : 1\n",
            "quantifiable : 1\n",
            "variables : 1\n",
            "measured : 1\n",
            "statistically : 1\n",
            "approach : 1\n",
            "interpretive : 1\n",
            "focuses : 1\n",
            "understanding : 1\n",
            "content : 1\n",
            "nonnumerical : 1\n",
            "like : 1\n",
            "text : 1\n",
            "images : 1\n",
            "audio : 1\n",
            "video : 1\n",
            "including : 1\n",
            "common : 1\n",
            "phrases : 1\n",
            "themes : 1\n",
            "points : 1\n"
          ]
        }
      ]
    },
    {
      "cell_type": "markdown",
      "source": [
        "a. What is the probability of the word “data” occurring in each line ?"
      ],
      "metadata": {
        "id": "YJjc05YgMTT8"
      }
    },
    {
      "cell_type": "code",
      "source": [
        "import pandas as pd"
      ],
      "metadata": {
        "id": "2RG-PZnaS-YJ"
      },
      "execution_count": 105,
      "outputs": []
    },
    {
      "cell_type": "code",
      "source": [
        "totalofwords=sum(d.values())\n",
        "totalofwords"
      ],
      "metadata": {
        "colab": {
          "base_uri": "https://localhost:8080/"
        },
        "id": "unclXXY-I4wP",
        "outputId": "30a9b229-570d-47fa-df29-e642e87e3d7f"
      },
      "execution_count": 131,
      "outputs": [
        {
          "output_type": "execute_result",
          "data": {
            "text/plain": [
              "319"
            ]
          },
          "metadata": {},
          "execution_count": 131
        }
      ]
    },
    {
      "cell_type": "code",
      "source": [
        "print(\"Probability of word 'data': {}\".format(d['data']/totalofwords))\n",
        "print(\"Probability of word 'data' in percentage: {}\".format((d['data']/totalofwords)*100))"
      ],
      "metadata": {
        "colab": {
          "base_uri": "https://localhost:8080/"
        },
        "id": "Nm3OtNX8S0zQ",
        "outputId": "80070a43-567b-4e45-8de7-765d6280a440"
      },
      "execution_count": 132,
      "outputs": [
        {
          "output_type": "stream",
          "name": "stdout",
          "text": [
            "Probability of 'data': 0.05642633228840126\n",
            "Probability of 'data' in percentage: 5.6426332288401255\n"
          ]
        }
      ]
    },
    {
      "cell_type": "markdown",
      "source": [
        "b. What is the distribution of distinct word counts across all the lines ?"
      ],
      "metadata": {
        "id": "KbeRgGHdY6Cf"
      }
    },
    {
      "cell_type": "code",
      "source": [
        "d"
      ],
      "metadata": {
        "colab": {
          "base_uri": "https://localhost:8080/"
        },
        "id": "SeMqqAs-TWXC",
        "outputId": "cda2108f-7160-4043-ed1f-f1d7fc2d30bd"
      },
      "execution_count": 133,
      "outputs": [
        {
          "output_type": "execute_result",
          "data": {
            "text/plain": [
              "{'as': 2,\n",
              " 'a': 10,\n",
              " 'term': 3,\n",
              " 'data': 18,\n",
              " 'analytics': 10,\n",
              " 'predominantly': 1,\n",
              " 'refers': 1,\n",
              " 'to': 11,\n",
              " 'an': 1,\n",
              " 'assortment': 1,\n",
              " 'of': 10,\n",
              " 'applications': 1,\n",
              " 'from': 2,\n",
              " 'basic': 1,\n",
              " 'business': 4,\n",
              " 'intelligence': 1,\n",
              " 'bi': 2,\n",
              " 'reporting': 1,\n",
              " 'and': 9,\n",
              " 'online': 1,\n",
              " 'analytical': 1,\n",
              " 'processing': 1,\n",
              " 'olap': 1,\n",
              " 'various': 1,\n",
              " 'forms': 1,\n",
              " 'advanced': 2,\n",
              " 'in': 6,\n",
              " 'that': 4,\n",
              " 'sense': 1,\n",
              " 'its': 1,\n",
              " 'similar': 1,\n",
              " 'nature': 1,\n",
              " 'another': 1,\n",
              " 'umbrella': 1,\n",
              " 'for': 2,\n",
              " 'approaches': 1,\n",
              " 'analyzing': 1,\n",
              " '': 4,\n",
              " 'with': 3,\n",
              " 'the': 11,\n",
              " 'difference': 1,\n",
              " 'latter': 1,\n",
              " 'is': 4,\n",
              " 'oriented': 1,\n",
              " 'uses': 2,\n",
              " 'while': 2,\n",
              " 'has': 2,\n",
              " 'broader': 1,\n",
              " 'focus': 1,\n",
              " 'expansive': 1,\n",
              " 'view': 2,\n",
              " 'isnt': 1,\n",
              " 'universal': 1,\n",
              " 'though': 1,\n",
              " 'some': 1,\n",
              " 'cases': 1,\n",
              " 'people': 1,\n",
              " 'use': 1,\n",
              " 'specifically': 1,\n",
              " 'mean': 1,\n",
              " 'treating': 1,\n",
              " 'separate': 1,\n",
              " 'category': 1,\n",
              " 'initiatives': 1,\n",
              " 'can': 5,\n",
              " 'help': 1,\n",
              " 'businesses': 1,\n",
              " 'increase': 1,\n",
              " 'revenues': 1,\n",
              " 'improve': 1,\n",
              " 'operational': 1,\n",
              " 'efficiency': 1,\n",
              " 'optimize': 1,\n",
              " 'marketing': 1,\n",
              " 'campaigns': 1,\n",
              " 'customer': 1,\n",
              " 'service': 1,\n",
              " 'efforts': 1,\n",
              " 'respond': 1,\n",
              " 'more': 2,\n",
              " 'quickly': 1,\n",
              " 'emerging': 1,\n",
              " 'market': 1,\n",
              " 'trends': 1,\n",
              " 'gain': 1,\n",
              " 'competitive': 1,\n",
              " 'edge': 1,\n",
              " 'over': 1,\n",
              " 'rivals': 1,\n",
              " 'all': 1,\n",
              " 'ultimate': 1,\n",
              " 'goal': 1,\n",
              " 'boosting': 1,\n",
              " 'performance': 1,\n",
              " 'depending': 1,\n",
              " 'on': 2,\n",
              " 'particular': 1,\n",
              " 'application': 1,\n",
              " 'thats': 1,\n",
              " 'analyzed': 1,\n",
              " 'consist': 1,\n",
              " 'either': 1,\n",
              " 'historical': 1,\n",
              " 'records': 1,\n",
              " 'or': 4,\n",
              " 'new': 1,\n",
              " 'information': 1,\n",
              " 'been': 1,\n",
              " 'processed': 1,\n",
              " 'realtime': 1,\n",
              " 'addition': 1,\n",
              " 'it': 2,\n",
              " 'come': 1,\n",
              " 'mix': 1,\n",
              " 'internal': 1,\n",
              " 'systems': 1,\n",
              " 'external': 1,\n",
              " 'sources': 1,\n",
              " 'at': 1,\n",
              " 'high': 1,\n",
              " 'level': 1,\n",
              " 'methodologies': 1,\n",
              " 'include': 1,\n",
              " 'exploratory': 2,\n",
              " 'analysis': 6,\n",
              " 'eda': 2,\n",
              " 'which': 2,\n",
              " 'aims': 1,\n",
              " 'find': 1,\n",
              " 'patterns': 1,\n",
              " 'relationships': 1,\n",
              " 'confirmatory': 1,\n",
              " 'cda': 2,\n",
              " 'applies': 1,\n",
              " 'statistical': 1,\n",
              " 'techniques': 1,\n",
              " 'determine': 1,\n",
              " 'whether': 1,\n",
              " 'hypotheses': 1,\n",
              " 'about': 1,\n",
              " 'set': 1,\n",
              " 'are': 1,\n",
              " 'true': 1,\n",
              " 'false': 1,\n",
              " 'often': 1,\n",
              " 'compared': 2,\n",
              " 'detective': 1,\n",
              " 'work': 2,\n",
              " 'akin': 1,\n",
              " 'judge': 1,\n",
              " 'jury': 1,\n",
              " 'during': 1,\n",
              " 'court': 1,\n",
              " 'trial': 1,\n",
              " 'distinction': 1,\n",
              " 'first': 1,\n",
              " 'drawn': 1,\n",
              " 'by': 1,\n",
              " 'statistician': 1,\n",
              " 'john': 1,\n",
              " 'w': 1,\n",
              " 'tukey': 1,\n",
              " 'his': 1,\n",
              " '1977': 1,\n",
              " 'book': 1,\n",
              " 'also': 1,\n",
              " 'be': 2,\n",
              " 'separated': 1,\n",
              " 'into': 1,\n",
              " 'quantitative': 1,\n",
              " 'qualitative': 2,\n",
              " 'former': 1,\n",
              " 'involves': 1,\n",
              " 'numerical': 1,\n",
              " 'quantifiable': 1,\n",
              " 'variables': 1,\n",
              " 'measured': 1,\n",
              " 'statistically': 1,\n",
              " 'approach': 1,\n",
              " 'interpretive': 1,\n",
              " 'focuses': 1,\n",
              " 'understanding': 1,\n",
              " 'content': 1,\n",
              " 'nonnumerical': 1,\n",
              " 'like': 1,\n",
              " 'text': 1,\n",
              " 'images': 1,\n",
              " 'audio': 1,\n",
              " 'video': 1,\n",
              " 'including': 1,\n",
              " 'common': 1,\n",
              " 'phrases': 1,\n",
              " 'themes': 1,\n",
              " 'points': 1}"
            ]
          },
          "metadata": {},
          "execution_count": 133
        }
      ]
    },
    {
      "cell_type": "markdown",
      "source": [
        "A little unclear about the problem B"
      ],
      "metadata": {
        "id": "v85gaAupZUMp"
      }
    },
    {
      "cell_type": "markdown",
      "source": [
        "c. What is the probability of the word “analytics” occurring after the word “data” ?"
      ],
      "metadata": {
        "id": "fwehZKlhZPkB"
      }
    },
    {
      "cell_type": "code",
      "source": [
        "count=line.count(\"data analytics\")\n",
        "print(\"count of word 'analytics' occuring after the word 'data' is :{}\".format(count))\n",
        "print(\"The Probability of word 'analytics' occuring after the word 'data' is :{}\".format(count/d['data']))"
      ],
      "metadata": {
        "colab": {
          "base_uri": "https://localhost:8080/"
        },
        "id": "EhVFbrCsZGfu",
        "outputId": "9ec6cca1-9194-40d3-9c33-6296f96cdd67"
      },
      "execution_count": 137,
      "outputs": [
        {
          "output_type": "stream",
          "name": "stdout",
          "text": [
            "count of word 'analytics' occuring after the word 'data' is :6\n",
            "The Probability of word 'analytics' occuring after the word 'data' is :0.3333333333333333\n"
          ]
        }
      ]
    },
    {
      "cell_type": "code",
      "source": [],
      "metadata": {
        "id": "NNJfHHX_aRUc"
      },
      "execution_count": null,
      "outputs": []
    }
  ]
}